{
 "cells": [
  {
   "cell_type": "code",
   "execution_count": 5,
   "metadata": {},
   "outputs": [],
   "source": [
    "import pandas as pd\n",
    "import numpy as np"
   ]
  },
  {
   "cell_type": "markdown",
   "metadata": {},
   "source": [
    "### Load some data and prepare for PU learning.\n",
    "Each row corresponds to a material and each column is a feature from either elemental data or density functional theory calculations.\n",
    "We discard non-numeric columns (e.g. compound labels) and rename the \"Synt\" column to \"PU_label\" so the PULearner knows where to find the labels of positive (1) or unlabeled (0)."
   ]
  },
  {
   "cell_type": "code",
   "execution_count": 29,
   "metadata": {},
   "outputs": [],
   "source": [
    "df = pd.read_excel('../test_files/MAX_dataset.xlsx', index_col=0)\n",
    "df = df.iloc[:, 4:]  # Get rid of non-numeric features\n",
    "df = df.rename(index=str, columns={'Synt': 'PU_label'})\n",
    "df.to_json('MAX_dataset.json')\n",
    "\n",
    "df = pd.read_excel('../test_files/MX_dataset.xlsx', index_col=0)\n",
    "df = df.iloc[:, 3:]  # Get rid of non-numeric features\n",
    "df = df.rename(index=str, columns={'Synt': 'PU_label'})\n",
    "df.to_json('MX_dataset.json')"
   ]
  },
  {
   "cell_type": "code",
   "execution_count": 3,
   "metadata": {},
   "outputs": [
    {
     "ename": "SyntaxError",
     "evalue": "invalid syntax (<ipython-input-3-dfb79cc55e6c>, line 1)",
     "output_type": "error",
     "traceback": [
      "\u001b[0;36m  File \u001b[0;32m\"<ipython-input-3-dfb79cc55e6c>\"\u001b[0;36m, line \u001b[0;32m1\u001b[0m\n\u001b[0;31m    from ../mlmsynth import PULearner\u001b[0m\n\u001b[0m           ^\u001b[0m\n\u001b[0;31mSyntaxError\u001b[0m\u001b[0;31m:\u001b[0m invalid syntax\n"
     ]
    }
   ],
   "source": [
    "from mlmsynth import PULearner"
   ]
  },
  {
   "cell_type": "code",
   "execution_count": null,
   "metadata": {},
   "outputs": [],
   "source": []
  }
 ],
 "metadata": {
  "kernelspec": {
   "display_name": "pu_env",
   "language": "python",
   "name": "pu_env"
  },
  "language_info": {
   "codemirror_mode": {
    "name": "ipython",
    "version": 3
   },
   "file_extension": ".py",
   "mimetype": "text/x-python",
   "name": "python",
   "nbconvert_exporter": "python",
   "pygments_lexer": "ipython3",
   "version": "3.6.8"
  }
 },
 "nbformat": 4,
 "nbformat_minor": 4
}

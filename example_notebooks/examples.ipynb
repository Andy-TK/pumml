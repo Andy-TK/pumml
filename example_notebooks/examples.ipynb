{
 "cells": [
  {
   "cell_type": "code",
   "execution_count": 3,
   "metadata": {},
   "outputs": [],
   "source": [
    "import pandas as pd\n",
    "import numpy as np"
   ]
  },
  {
   "cell_type": "markdown",
   "metadata": {},
   "source": [
    "### Load some data and prepare for PU learning.\n",
    "Each row corresponds to a material and each column is a feature from either elemental data or density functional theory calculations.\n",
    "We discard non-numeric columns (e.g. compound labels) and rename the \"Synt\" column to \"PU_label\" so the PULearner knows where to find the labels of positive (1) or unlabeled (0)."
   ]
  },
  {
   "cell_type": "code",
   "execution_count": 4,
   "metadata": {},
   "outputs": [],
   "source": [
    "df = pd.read_excel('../test_files/MAX_dataset.xlsx', index_col=0)\n",
    "df = df.iloc[:, 4:]  # Get rid of non-numeric features\n",
    "df = df.rename(index=str, columns={'Synt': 'PU_label'})\n",
    "df.to_json('MAX_dataset.json')\n",
    "\n",
    "df = pd.read_excel('../test_files/MX_dataset.xlsx', index_col=0)\n",
    "df = df.iloc[:, 3:]  # Get rid of non-numeric features\n",
    "df = df.rename(index=str, columns={'Synt': 'PU_label'})\n",
    "df.to_json('MX_dataset.json')"
   ]
  },
  {
   "cell_type": "markdown",
   "metadata": {},
   "source": [
    "### Do k-fold cross validation with bagged decision tree base classifiers.\n",
    "Run PU learning on a sample data set. n_repeats and n_bags should be large values for production runs. Here we use small values so the example runs quickly."
   ]
  },
  {
   "cell_type": "code",
   "execution_count": 5,
   "metadata": {},
   "outputs": [],
   "source": [
    "from mlmsynth import PULearner"
   ]
  },
  {
   "cell_type": "code",
   "execution_count": 19,
   "metadata": {},
   "outputs": [
    {
     "name": "stdout",
     "output_type": "stream",
     "text": [
      "Performed Repeated 3-fold: 1 out of 5\n",
      "True Positive Rate: 0.75 (+/- 0.00)\n",
      "Performed Repeated 3-fold: 2 out of 5\n",
      "True Positive Rate: 0.42 (+/- 0.36)\n",
      "Performed Repeated 3-fold: 3 out of 5\n",
      "True Positive Rate: 0.33 (+/- 0.54)\n",
      "Performed Repeated 3-fold: 4 out of 5\n",
      "True Positive Rate: 0.44 (+/- 0.63)\n",
      "Performed Repeated 3-fold: 5 out of 5\n",
      "True Positive Rate: 0.39 (+/- 0.16)\n",
      "Accuracy: 0.43\n",
      "95% confidence interval: [0.32, 0.53]\n"
     ]
    }
   ],
   "source": [
    "pul = PULearner()\n",
    "n_splits = 3  # 3-fold CV\n",
    "n_repeats = 5  # Repeat the entire kfold CV 10 times for averaging\n",
    "n_bags = 5  # 10 bags for bootstrap aggregating.\n",
    "\n",
    "pu_stats = pul.cv_baggingDT('MX_dataset.json', splits=n_splits, repeats=n_repeats, bags=n_bags)"
   ]
  },
  {
   "cell_type": "code",
   "execution_count": 33,
   "metadata": {},
   "outputs": [
    {
     "name": "stdout",
     "output_type": "stream",
     "text": [
      "dict_keys(['prob', 'labels', 'metrics', 'prob_rp', 'label_rp', 'tpr_rp', 'scores_rp', 'feat_rank_rp'])\n",
      "56\n",
      "[0.09090909 0.         0.         0.         0.        ]\n",
      "0.5544444444444444\n"
     ]
    }
   ],
   "source": [
    "print(pu_stats.keys())\n",
    "print(len(pu_stats['prob_rp']))\n",
    "print(pu_stats['feat_rank_rp'][0])\n",
    "print(pu_stats['prob'][0])"
   ]
  },
  {
   "cell_type": "code",
   "execution_count": 57,
   "metadata": {},
   "outputs": [
    {
     "data": {
      "text/plain": [
       "array([1, 0])"
      ]
     },
     "execution_count": 57,
     "metadata": {},
     "output_type": "execute_result"
    }
   ],
   "source": [
    "fimp = [234, 23511, 123]\n",
    "df = pd.Series(data=fimp)\n",
    "df = df.sort_values(ascending=False)\n",
    "df = df / df.max()\n",
    "df[:2].index.values"
   ]
  },
  {
   "cell_type": "code",
   "execution_count": null,
   "metadata": {},
   "outputs": [],
   "source": []
  }
 ],
 "metadata": {
  "kernelspec": {
   "display_name": "pu_env",
   "language": "python",
   "name": "pu_env"
  },
  "language_info": {
   "codemirror_mode": {
    "name": "ipython",
    "version": 3
   },
   "file_extension": ".py",
   "mimetype": "text/x-python",
   "name": "python",
   "nbconvert_exporter": "python",
   "pygments_lexer": "ipython3",
   "version": "3.6.8"
  }
 },
 "nbformat": 4,
 "nbformat_minor": 4
}

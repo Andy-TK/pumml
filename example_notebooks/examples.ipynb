{
 "cells": [
  {
   "cell_type": "code",
   "execution_count": null,
   "metadata": {},
   "outputs": [],
   "source": [
    "import pandas as pd\n",
    "import numpy as np"
   ]
  },
  {
   "cell_type": "markdown",
   "metadata": {},
   "source": [
    "### Load some data and prepare for PU learning.\n",
    "Each row corresponds to a material and each column is a feature from either elemental data or density functional theory calculations.\n",
    "We discard non-numeric columns (e.g. compound labels) and rename the \"Synt\" column to \"PU_label\" so the PULearner knows where to find the labels of positive (1) or unlabeled (0)."
   ]
  },
  {
   "cell_type": "code",
   "execution_count": null,
   "metadata": {},
   "outputs": [],
   "source": [
    "df = pd.read_excel('../test_files/MAX_dataset.xlsx', index_col=0)\n",
    "#df = df.iloc[:, 4:]  # Get rid of non-numeric features\n",
    "df = df.rename(index=str, columns={'Synt': 'PU_label'})\n",
    "df.to_json('../test_files/MAX_dataset.json')\n",
    "\n",
    "df = pd.read_excel('../test_files/MX_dataset.xlsx', index_col=0)\n",
    "#df = df.iloc[:, 3:]  # Get rid of non-numeric features\n",
    "df = df.rename(index=str, columns={'Synt': 'PU_label'})\n",
    "df.to_json('../test_files/MX_dataset.json')"
   ]
  },
  {
   "cell_type": "markdown",
   "metadata": {},
   "source": [
    "### Do k-fold cross validation with bagged decision tree base classifiers.\n",
    "Run PU learning on a sample data set. n_repeats and n_bags should be large values for production runs. Here we use small values so the example runs quickly."
   ]
  },
  {
   "cell_type": "code",
   "execution_count": 1,
   "metadata": {},
   "outputs": [],
   "source": [
    "from mlmsynth import PULearner"
   ]
  },
  {
   "cell_type": "code",
   "execution_count": 2,
   "metadata": {
    "collapsed": true,
    "jupyter": {
     "outputs_hidden": true
    }
   },
   "outputs": [
    {
     "name": "stdout",
     "output_type": "stream",
     "text": [
      "Start PU Learning.\n",
      "Performed Repeated 3-fold: 1 out of 5\n",
      "True Positive Rate: 0.50 (+/- 0.00)\n",
      "Performed Repeated 3-fold: 2 out of 5\n",
      "True Positive Rate: 0.11 (+/- 0.31)\n",
      "Performed Repeated 3-fold: 3 out of 5\n",
      "True Positive Rate: 0.42 (+/- 0.36)\n"
     ]
    },
    {
     "name": "stderr",
     "output_type": "stream",
     "text": [
      "/mnt/c/Users/nfrey/Documents/mlms/mlmsynth.py:158: RuntimeWarning: invalid value encountered in true_divide\n",
      "  predict_utrain = f_oob[:, 1] / n_oob\n",
      "/mnt/c/Users/nfrey/Documents/mlms/mlmsynth.py:158: RuntimeWarning: invalid value encountered in true_divide\n",
      "  predict_utrain = f_oob[:, 1] / n_oob\n",
      "/mnt/c/Users/nfrey/Documents/mlms/mlmsynth.py:194: RuntimeWarning: invalid value encountered in greater\n",
      "  label_U[:, :splits * repeats][np.where(prob_U > 0.5)] = 1\n",
      "/mnt/c/Users/nfrey/Documents/mlms/mlmsynth.py:214: RuntimeWarning: invalid value encountered in greater\n",
      "  label_U_rp[np.where(prob_U_rp > 0.5)] = 1\n",
      "/mnt/c/Users/nfrey/Documents/mlms/mlmsynth.py:216: RuntimeWarning: invalid value encountered in greater\n",
      "  labels[np.where(prob > 0.5)] = 1\n"
     ]
    },
    {
     "name": "stdout",
     "output_type": "stream",
     "text": [
      "Performed Repeated 3-fold: 4 out of 5\n",
      "True Positive Rate: 0.44 (+/- 0.83)\n",
      "Performed Repeated 3-fold: 5 out of 5\n",
      "True Positive Rate: 0.39 (+/- 0.16)\n",
      "Accuracy: 0.39\n",
      "95% confidence interval: [0.27, 0.53]\n"
     ]
    }
   ],
   "source": [
    "pul = PULearner()\n",
    "n_splits = 3  # 3-fold CV\n",
    "n_repeats = 5  # Repeat the entire kfold CV 10 times for averaging\n",
    "n_bags = 5  # 10 bags for bootstrap aggregating.\n",
    "\n",
    "pu_stats = pul.cv_baggingDT('../test_files/MX_dataset.json', splits=n_splits, repeats=n_repeats, bags=n_bags)"
   ]
  },
  {
   "cell_type": "code",
   "execution_count": null,
   "metadata": {},
   "outputs": [],
   "source": [
    "df = pul.df_U.copy()\n",
    "df['synth_score'] = pu_stats['prob']\n",
    "df.head()"
   ]
  },
  {
   "cell_type": "code",
   "execution_count": null,
   "metadata": {},
   "outputs": [],
   "source": [
    "df1 = pd.read_json('../test_files/MAX_dataset.json')\n",
    "df2 = pd.read_json('../test_files/MX_dataset.json')\n",
    "# df.loc[df.eval('PU_label == 0'), 'test'] = 1\n",
    "merge = list(('M', 'X', 'n'))\n",
    "df = pd.merge(df1, df2, on=merge, how='outer', suffixes=['_p', '_c'])\n",
    "df.head()"
   ]
  },
  {
   "cell_type": "code",
   "execution_count": null,
   "metadata": {},
   "outputs": [],
   "source": [
    "df = pd.read_json('../test_files/MX_dataset.json')\n",
    "np.asarray(df._get_numeric_data())[0,:]"
   ]
  },
  {
   "cell_type": "code",
   "execution_count": null,
   "metadata": {},
   "outputs": [],
   "source": []
  }
 ],
 "metadata": {
  "kernelspec": {
   "display_name": "pu_env",
   "language": "python",
   "name": "pu_env"
  },
  "language_info": {
   "codemirror_mode": {
    "name": "ipython",
    "version": 3
   },
   "file_extension": ".py",
   "mimetype": "text/x-python",
   "name": "python",
   "nbconvert_exporter": "python",
   "pygments_lexer": "ipython3",
   "version": "3.6.8"
  }
 },
 "nbformat": 4,
 "nbformat_minor": 4
}

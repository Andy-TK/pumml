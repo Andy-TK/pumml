{
 "cells": [
  {
   "cell_type": "code",
   "execution_count": 3,
   "metadata": {},
   "outputs": [],
   "source": [
    "import pandas as pd\n",
    "import numpy as np"
   ]
  },
  {
   "cell_type": "markdown",
   "metadata": {},
   "source": [
    "### Load some data and prepare for PU learning.\n",
    "Each row corresponds to a material and each column is a feature from either elemental data or density functional theory calculations.\n",
    "We discard non-numeric columns (e.g. compound labels) and rename the \"Synt\" column to \"PU_label\" so the PULearner knows where to find the labels of positive (1) or unlabeled (0)."
   ]
  },
  {
   "cell_type": "code",
   "execution_count": 4,
   "metadata": {},
   "outputs": [],
   "source": [
    "df = pd.read_excel('../test_files/MAX_dataset.xlsx', index_col=0)\n",
    "df = df.iloc[:, 4:]  # Get rid of non-numeric features\n",
    "df = df.rename(index=str, columns={'Synt': 'PU_label'})\n",
    "df.to_json('MAX_dataset.json')\n",
    "\n",
    "df = pd.read_excel('../test_files/MX_dataset.xlsx', index_col=0)\n",
    "df = df.iloc[:, 3:]  # Get rid of non-numeric features\n",
    "df = df.rename(index=str, columns={'Synt': 'PU_label'})\n",
    "df.to_json('MX_dataset.json')"
   ]
  },
  {
   "cell_type": "markdown",
   "metadata": {},
   "source": [
    "### Do k-fold cross validation with bagged decision tree base classifiers.\n",
    "Run PU learning on a sample data set. n_repeats and n_bags should be large values for production runs. Here we use small values so the example runs quickly."
   ]
  },
  {
   "cell_type": "code",
   "execution_count": 5,
   "metadata": {},
   "outputs": [],
   "source": [
    "from mlmsynth import PULearner"
   ]
  },
  {
   "cell_type": "code",
   "execution_count": 7,
   "metadata": {
    "collapsed": true,
    "jupyter": {
     "outputs_hidden": true
    }
   },
   "outputs": [
    {
     "name": "stdout",
     "output_type": "stream",
     "text": [
      "Performed Repeated 3-fold: 1 out of 10\n",
      "True Positive Rate: 0.86 (+/- 0.00)\n",
      "Performed Repeated 3-fold: 2 out of 10\n",
      "True Positive Rate: 0.87 (+/- 0.16)\n",
      "Performed Repeated 3-fold: 3 out of 10\n",
      "True Positive Rate: 0.86 (+/- 0.28)\n",
      "Performed Repeated 3-fold: 4 out of 10\n",
      "True Positive Rate: 0.87 (+/- 0.04)\n",
      "Performed Repeated 3-fold: 5 out of 10\n",
      "True Positive Rate: 0.86 (+/- 0.34)\n",
      "Performed Repeated 3-fold: 6 out of 10\n",
      "True Positive Rate: 0.78 (+/- 0.20)\n",
      "Performed Repeated 3-fold: 7 out of 10\n",
      "True Positive Rate: 0.84 (+/- 0.20)\n",
      "Performed Repeated 3-fold: 8 out of 10\n",
      "True Positive Rate: 0.73 (+/- 0.12)\n",
      "Performed Repeated 3-fold: 9 out of 10\n",
      "True Positive Rate: 0.81 (+/- 0.21)\n",
      "Performed Repeated 3-fold: 10 out of 10\n",
      "True Positive Rate: 0.92 (+/- 0.16)\n",
      "Accuracy: 0.83\n",
      "95% confidence interval: [0.78, 0.87]\n"
     ]
    }
   ],
   "source": [
    "pul = PULearner()\n",
    "n_splits = 3  # 3-fold CV\n",
    "n_repeats = 10  # Repeat the entire kfold CV 10 times for averaging\n",
    "n_bags = 10  # 10 bags for bootstrap aggregating.\n",
    "\n",
    "pu_stats = pul.cv_baggingDT('MAX_dataset.json', splits=n_splits, repeats=n_repeats, bags=n_bags)"
   ]
  },
  {
   "cell_type": "code",
   "execution_count": null,
   "metadata": {},
   "outputs": [],
   "source": []
  }
 ],
 "metadata": {
  "kernelspec": {
   "display_name": "pu_env",
   "language": "python",
   "name": "pu_env"
  },
  "language_info": {
   "codemirror_mode": {
    "name": "ipython",
    "version": 3
   },
   "file_extension": ".py",
   "mimetype": "text/x-python",
   "name": "python",
   "nbconvert_exporter": "python",
   "pygments_lexer": "ipython3",
   "version": "3.6.8"
  }
 },
 "nbformat": 4,
 "nbformat_minor": 4
}
